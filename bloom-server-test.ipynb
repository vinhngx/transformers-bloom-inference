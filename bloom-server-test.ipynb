{
 "cells": [
  {
   "cell_type": "markdown",
   "id": "88ed4960",
   "metadata": {},
   "source": [
    "# Deployment\n",
    "\n",
    "https://github.com/huggingface/transformers-bloom-inference/tree/main/inference_server"
   ]
  },
  {
   "cell_type": "code",
   "execution_count": null,
   "id": "44e3d9cb",
   "metadata": {},
   "outputs": [],
   "source": [
    "!pip install flask flask_api gunicorn pydantic accelerate huggingface_hub>=0.9.0 deepspeed>=0.7.3 deepspeed-mii==0.0.2"
   ]
  },
  {
   "cell_type": "code",
   "execution_count": null,
   "id": "c3faa90a",
   "metadata": {},
   "outputs": [],
   "source": [
    "!pip install protobuf==3.20.0"
   ]
  },
  {
   "cell_type": "markdown",
   "id": "f6f0baa5",
   "metadata": {},
   "source": [
    "Add to make file:\n",
    "\n",
    "```\n",
    "bloom-176b-int8:\n",
    "\tTOKENIZERS_PARALLELISM=false \\\n",
    "\tMODEL_NAME=microsoft/bloom-deepspeed-inference-int8 \\\n",
    "\tDEPLOYMENT_FRAMEWORK=ds_inference \\\n",
    "\tDTYPE=int8 \\\n",
    "\tMAX_INPUT_LENGTH=2048 \\\n",
    "\tMAX_BATCH_SIZE=4 \\\n",
    "\tCUDA_VISIBLE_DEVICES=0,1,2,3 \\\n",
    "\tgunicorn -t 0 -w 1 -b 127.0.0.1:5000 inference_server.server:app --access-logfile - --access-logformat '%(h)s %(t)s \"%(r)s\" %(s)s %(b)s'\n",
    "```"
   ]
  },
  {
   "cell_type": "code",
   "execution_count": null,
   "id": "f29b072e",
   "metadata": {},
   "outputs": [],
   "source": [
    "!make bloom-176b-int8"
   ]
  },
  {
   "cell_type": "markdown",
   "id": "edec3785",
   "metadata": {},
   "source": [
    "# Inference"
   ]
  },
  {
   "cell_type": "code",
   "execution_count": 9,
   "id": "c54c3475",
   "metadata": {},
   "outputs": [
    {
     "name": "stdout",
     "output_type": "stream",
     "text": [
      "{'method': 'generate', 'num_generated_tokens': [40, 40, 40, 40], 'query_id': 2, 'text': ['DeepSpeed</em></p>\\n *\\n * <p>The following example shows how to use the {@link #get(int)} method to get the\\n * deepest node in the tree:</p>\\n * <', 'DeepSpeed is a measure of the amount of time it takes for a sound to travel through a medium. It is measured in units of distance per second.</em></p>\\n<p>The speed of sound in air is about', 'DeepSpeed is a machine learning framework for training deep neural networks using stochastic gradient descent. It is designed to be fast and easy to use. It is a library for deep learning in Python. It is designed to be modular and', 'DeepSpeed is a machine learning framework for the deep learning community. It is a Python package that provides a set of tools for deep learning. It is a framework for building and training deep neural networks. It is a framework for building and'], 'total_time_taken': '8.10 secs'} \n",
      "\n",
      "{'attention_mask': [[1, 1, 1, 1], [1, 1, 1, 1, 1, 1, 1]], 'method': 'tokenize', 'query_id': 1, 'token_ids': [[141247, 79050, 632, 267], [141247, 79050, 632, 267, 20995, 26002, 25769]], 'total_time_taken': '0.22 msecs'} \n",
      "\n",
      "{'generate_query_id': 3, 'tokenize_query_id': 2} \n",
      "\n"
     ]
    }
   ],
   "source": [
    "!python inference_server/examples/server_request.py --host=127.0.0.1 --port=5000"
   ]
  },
  {
   "cell_type": "code",
   "execution_count": 4,
   "id": "d5d7e472",
   "metadata": {},
   "outputs": [
    {
     "name": "stdout",
     "output_type": "stream",
     "text": [
      "{'method': 'generate', 'num_generated_tokens': [40, 40, 40, 40], 'query_id': 0, 'text': ['DeepSpeed</em></p>\\n *\\n * <p>The following example shows how to use the {@link #get(int)} method to get the\\n * deepest node in the tree:</p>\\n * <', 'DeepSpeed is a measure of the amount of time it takes for a sound to travel through a medium. It is measured in units of distance per second.</em></p>\\n<p>The speed of sound in air is about', 'DeepSpeed is a machine learning framework for training deep neural networks using stochastic gradient descent. It is designed to be fast and easy to use. It is a library for deep learning in Python. It is designed to be modular and', 'DeepSpeed is a machine learning framework for the deep learning community. It is a Python package that provides a set of tools for deep learning. It is a framework for building and training deep neural networks. It is a framework for building and'], 'total_time_taken': '12.10 secs'} \n",
      "\n",
      "{'attention_mask': [[1, 1, 1, 1], [1, 1, 1, 1, 1, 1, 1]], 'method': 'tokenize', 'query_id': 0, 'token_ids': [[141247, 79050, 632, 267], [141247, 79050, 632, 267, 20995, 26002, 25769]], 'total_time_taken': '0.51 msecs'} \n",
      "\n",
      "{'generate_query_id': 1, 'tokenize_query_id': 1} \n",
      "\n"
     ]
    }
   ],
   "source": [
    "!python inference_server/examples/server_request.py --host=127.0.0.1 --port=5000"
   ]
  },
  {
   "cell_type": "code",
   "execution_count": 1,
   "id": "33978a4b",
   "metadata": {},
   "outputs": [],
   "source": [
    "import requests\n",
    "\n",
    "def generate(url: str) -> None:\n",
    "    url = url + \"/generate/\"\n",
    "\n",
    "    request_body = {\n",
    "        \"text\": [\n",
    "            \"DeepSpeed\",\n",
    "            \"DeepSpeed is a\",\n",
    "            \"DeepSpeed is a machine\",\n",
    "            \"DeepSpeed is a machine learning framework\",\n",
    "        ],\n",
    "        \"max_new_tokens\": 40,\n",
    "    }\n",
    "    response = requests.post(url=url, json=request_body, verify=False)\n",
    "    print(response.json(), \"\\n\")\n"
   ]
  },
  {
   "cell_type": "code",
   "execution_count": 2,
   "id": "a1091a4a",
   "metadata": {},
   "outputs": [
    {
     "name": "stdout",
     "output_type": "stream",
     "text": [
      "{'method': 'generate', 'num_generated_tokens': [40, 40, 40, 40], 'query_id': 0, 'text': ['DeepSpeed, a leading provider of high-performance computing (HPC) solutions, today announced that it has been selected by the U.S. Department of Energy (DOE) to provide a high-per', 'DeepSpeed is a new, fast, and accurate method for the detection of protein-protein interactions. It is based on the use of a single, high-affinity, small molecule that binds to the protein of interest', 'DeepSpeed is a machine learning framework that is designed to be used by researchers and developers who are interested in applying deep learning to their own problems. It is a Python library that provides a set of tools for training and evaluating deep', 'DeepSpeed is a machine learning framework that is designed to be used by researchers and developers who are interested in applying deep learning to their own problems. It is a Python library that provides a set of tools for training and evaluating deep neural networks'], 'total_time_taken': '14.55 secs'} \n",
      "\n"
     ]
    }
   ],
   "source": [
    "generate(\"http://127.0.0.1:5000\")"
   ]
  },
  {
   "cell_type": "markdown",
   "id": "41a587a1",
   "metadata": {},
   "source": [
    "    text: List[str] = None\n",
    "    min_length: int = None\n",
    "    do_sample: bool = None\n",
    "    early_stopping: bool = None\n",
    "    temperature: float = None\n",
    "    top_k: int = None\n",
    "    top_p: float = None\n",
    "    typical_p: float = None\n",
    "    repetition_penalty: float = None\n",
    "    bos_token_id: int = None\n",
    "    pad_token_id: int = None\n",
    "    eos_token_id: int = None\n",
    "    length_penalty: float = None\n",
    "    no_repeat_ngram_size: int = None\n",
    "    encoder_no_repeat_ngram_size: int = None\n",
    "    num_return_sequences: int = None\n",
    "    max_time: float = None\n",
    "    max_new_tokens: int = None\n",
    "    decoder_start_token_id: int = None\n",
    "    diversity_penalty: float = None\n",
    "    forced_bos_token_id: int = None\n",
    "    forced_eos_token_id: int = None\n",
    "    exponential_decay_length_penalty: float = None\n",
    "    remove_input_from_output: bool = False"
   ]
  },
  {
   "cell_type": "code",
   "execution_count": 3,
   "id": "9fa48b8b",
   "metadata": {},
   "outputs": [
    {
     "name": "stdout",
     "output_type": "stream",
     "text": [
      "{'method': 'generate', 'num_generated_tokens': [64], 'query_id': 0, 'text': ['DeepSpeed is a machine learning framework that is used to train a model to predict the best time to a certain point in a sequence. In a real-world scenario, the time to a certain point in a sequence is a function of the time in the previous time period, the time in the current time period, the time in the next time period, the'], 'total_time_taken': '1.29 secs'} \n",
      "\n"
     ]
    }
   ],
   "source": [
    "import requests\n",
    "\n",
    "url = \"http://127.0.0.1:5000/generate/\"\n",
    "\n",
    "request_body = {\n",
    "    \"text\": [\n",
    "        \"DeepSpeed is a machine learning framework\",\n",
    "    ],\n",
    "    \"max_new_tokens\": 64,\n",
    "    \"top_p\": 1.0,\n",
    "    \"temperature\": 1.0\n",
    "}\n",
    "response = requests.post(url=url, json=request_body, verify=False)\n",
    "print(response.json(), \"\\n\")\n"
   ]
  },
  {
   "cell_type": "code",
   "execution_count": 4,
   "id": "bb78a680",
   "metadata": {},
   "outputs": [
    {
     "data": {
      "text/plain": [
       "'DeepSpeed is a machine learning framework that is used to train a model to predict the best time to a certain point in a sequence. In a real-world scenario, the time to a certain point in a sequence is a function of the time in the previous time period, the time in the current time period, the time in the next time period, the'"
      ]
     },
     "execution_count": 4,
     "metadata": {},
     "output_type": "execute_result"
    }
   ],
   "source": [
    "response.json()['text'][0]"
   ]
  },
  {
   "cell_type": "code",
   "execution_count": null,
   "id": "3d2d7d14",
   "metadata": {},
   "outputs": [],
   "source": []
  },
  {
   "cell_type": "code",
   "execution_count": 5,
   "id": "00dfdcac",
   "metadata": {},
   "outputs": [
    {
     "name": "stdout",
     "output_type": "stream",
     "text": [
      "<Response [200]> \n",
      "\n"
     ]
    }
   ],
   "source": [
    "import requests\n",
    "\n",
    "url = \"http://127.0.0.1:5000/logprob/\"\n",
    "\n",
    "request_body = {\n",
    "    \"text\": [\n",
    "        \"DeepSpeed is a machine learning framework\",\n",
    "    ],    \n",
    "}\n",
    "response = requests.post(url=url, json=request_body, verify=False)\n",
    "print(response, \"\\n\")\n"
   ]
  },
  {
   "cell_type": "code",
   "execution_count": 4,
   "id": "7f9d4477",
   "metadata": {},
   "outputs": [
    {
     "data": {
      "text/plain": [
       "{'logprobs': [[368.0, 368.0, 434.0, 430.0, 432.0, 432.0]],\n",
       " 'mean_log_prob': 410.6666564941406}"
      ]
     },
     "execution_count": 4,
     "metadata": {},
     "output_type": "execute_result"
    }
   ],
   "source": [
    "response.json()"
   ]
  },
  {
   "cell_type": "code",
   "execution_count": 5,
   "id": "55d96c89",
   "metadata": {},
   "outputs": [
    {
     "data": {
      "text/plain": [
       "410.6666564941406"
      ]
     },
     "execution_count": 5,
     "metadata": {},
     "output_type": "execute_result"
    }
   ],
   "source": [
    "response.json()['mean_log_prob']"
   ]
  },
  {
   "cell_type": "code",
   "execution_count": 2,
   "id": "d8894d82",
   "metadata": {},
   "outputs": [
    {
     "name": "stdout",
     "output_type": "stream",
     "text": [
      "b'{\"logprobs\":[[368.0,368.0,434.0,430.0,432.0,432.0,434.0,426.0]],\"mean_log_prob\":415.5}\\n' \n",
      "\n"
     ]
    }
   ],
   "source": [
    "import requests\n",
    "\n",
    "url = \"http://127.0.0.1:5000/logprob/\"\n",
    "\n",
    "request_body = {\n",
    "    \"text\": [\n",
    "        \"DeepSpeed is a machine learning framework: correct\",\n",
    "    ],    \n",
    "}\n",
    "response = requests.post(url=url, json=request_body, verify=False)\n",
    "print(response.content, \"\\n\")"
   ]
  },
  {
   "cell_type": "code",
   "execution_count": 1,
   "id": "196f8d84",
   "metadata": {},
   "outputs": [
    {
     "name": "stdout",
     "output_type": "stream",
     "text": [
      "{'logprobs': [[368.0, 368.0, 434.0, 430.0, 432.0, 432.0, 434.0, 422.0]], 'mean_log_prob': 415.0} \n",
      "\n"
     ]
    }
   ],
   "source": [
    "import requests\n",
    "\n",
    "url = \"http://127.0.0.1:5000/logprob/\"\n",
    "\n",
    "request_body = {\n",
    "    \"text\": [\n",
    "        \"DeepSpeed is a machine learning framework: incorrect\",\n",
    "    ],    \n",
    "}\n",
    "response = requests.post(url=url, json=request_body, verify=False)\n",
    "print(response.json(), \"\\n\")"
   ]
  },
  {
   "cell_type": "code",
   "execution_count": null,
   "id": "b6f328b9",
   "metadata": {},
   "outputs": [],
   "source": []
  }
 ],
 "metadata": {
  "kernelspec": {
   "display_name": "Python 3 (ipykernel)",
   "language": "python",
   "name": "python3"
  },
  "language_info": {
   "codemirror_mode": {
    "name": "ipython",
    "version": 3
   },
   "file_extension": ".py",
   "mimetype": "text/x-python",
   "name": "python",
   "nbconvert_exporter": "python",
   "pygments_lexer": "ipython3",
   "version": "3.8.13"
  }
 },
 "nbformat": 4,
 "nbformat_minor": 5
}
